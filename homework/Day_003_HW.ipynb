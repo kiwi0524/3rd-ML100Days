{
 "cells": [
  {
   "cell_type": "markdown",
   "metadata": {},
   "source": [
    "#持續接觸有關機器學習的相關專案與最新技術\n",
    "專案的目標？ (要解決什麼問題）\n",
    "使用的技術是？ (只需知道名稱即可，例如：使用 CNN 卷積神經網路做影像分類)\n",
    "資料來源？"
   ]
  },
  {
   "cell_type": "markdown",
   "metadata": {},
   "source": [
    "智能視覺掃地機器人，做了迴避障礙物和定位，可以保障清潔任務完整執行，避免掃地機器人研撞家具，纏繞電線，被卡住等問題\n",
    "加入視覺算法技術，慣性導航+視覺避障+視覺定位\n",
    "資料來源為其視覺模組為 RGB + ToF 雙攝視覺模組；\n",
    "傳統的 RGB 攝像頭，可以執行視頻採集，ToF 攝像頭用於計算物體的距離、尺寸資訊，對周圍環境有準確的認知，從而可以更好的執行避障動作。\n",
    "\n",
    "\n"
   ]
  }
 ],
 "metadata": {
  "kernelspec": {
   "display_name": "Python 3",
   "language": "python",
   "name": "python3"
  },
  "language_info": {
   "codemirror_mode": {
    "name": "ipython",
    "version": 3
   },
   "file_extension": ".py",
   "mimetype": "text/x-python",
   "name": "python",
   "nbconvert_exporter": "python",
   "pygments_lexer": "ipython3",
   "version": "3.7.3"
  }
 },
 "nbformat": 4,
 "nbformat_minor": 2
}
