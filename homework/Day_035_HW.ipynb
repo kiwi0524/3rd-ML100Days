{
 "cells": [
  {
   "cell_type": "markdown",
   "metadata": {},
   "source": [
    "## 練習時間\n",
    "相信大家對回歸問題及分類問題都有初步的了解。今天的作業希望大家搜尋有關 multi-label 的案例問題。下圖是電影 \"奇異博士\" 的分類。可以看到同時有 \"Action\", \"Adventure\", \"Fantasy\" 的類別存在，代表這是個多標籤的問題。 "
   ]
  },
  {
   "cell_type": "markdown",
   "metadata": {},
   "source": [
    "![image](https://cdn-images-1.medium.com/max/1000/1*r0gYXMSQf5VhdMyl2bRDyg.png)"
   ]
  },
  {
   "cell_type": "markdown",
   "metadata": {},
   "source": [
    "## 請搜尋目標為多標籤問題 (Multi-label) 的機器學習案例，了解其資料來源、目標以及評估指標為何\n",
    "## Hint: 服飾"
   ]
  },
  {
   "cell_type": "markdown",
   "metadata": {},
   "source": [
    "音訊分類\n",
    "歌曲會被分類為不同的流派。他們也被分類為，如“放鬆的平靜”，或“悲傷的孤獨”等等情感或情緒的基礎。\n",
    "\n",
    "來源：http://lpis.csd.auth.gr/publications/tsoumakas-ismir08.pdf\n",
    "\n",
    "對於分類策略，基於考察標記之間相關性的不同方式，已有的多標記學習演算法的策略思路大致可以分為以下三類：\n",
    "\n",
    "a) “一階（first-order）”策略：該類策略通過逐一考察單個標記而忽略標記之間的相關性，如將多標記學習問題分解為個獨立的二類分類問題，從而構造多標記學習系統。該類方法效率較高且實現簡單，但由於其完全忽略標記之間可能存在的相關性，其系統的泛化效能往往較低。\n",
    "\n",
    "b) “二階（second-order）”策略：該類策略通過考察兩兩標記之間的相關性，如相關標記與無關標記之間的排序關係，兩兩標記之間的互動關係等等，從而構造多標記學習系統。該類方法由於在一定程度上考察了標記之間的相關性，因此其系統泛化效能較優。\n",
    "\n",
    "c) “高階（high-order）”策略：該類策略通過考察高階的標記相關性，如處理任一標記對其它所有標記的影響，處理一組隨機標記集合的相關性等等，從而構造多標記學習系統。該類方法雖然可以較好地反映真實世界問題的標記相關性，但其模型複雜度往往過高，難以處理大規模學習問題。"
   ]
  }
 ],
 "metadata": {
  "kernelspec": {
   "display_name": "Python 3",
   "language": "python",
   "name": "python3"
  },
  "language_info": {
   "codemirror_mode": {
    "name": "ipython",
    "version": 3
   },
   "file_extension": ".py",
   "mimetype": "text/x-python",
   "name": "python",
   "nbconvert_exporter": "python",
   "pygments_lexer": "ipython3",
   "version": "3.7.3"
  }
 },
 "nbformat": 4,
 "nbformat_minor": 2
}
