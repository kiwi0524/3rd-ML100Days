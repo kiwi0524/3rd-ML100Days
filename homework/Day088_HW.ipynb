{
 "cells": [
  {
   "cell_type": "markdown",
   "metadata": {},
   "source": [
    "## Work\n",
    "1. 請嘗試寫一個 callback 用來記錄各類別在訓練過程中，對驗證集的 True Positive 與 True Negative"
   ]
  },
  {
   "cell_type": "code",
   "execution_count": 1,
   "metadata": {},
   "outputs": [
    {
     "name": "stderr",
     "output_type": "stream",
     "text": [
      "Using TensorFlow backend.\n"
     ]
    }
   ],
   "source": [
    "import os\n",
    "import keras\n",
    "\n",
    "# Disable GPU\n",
    "os.environ[\"CUDA_VISIBLE_DEVICES\"] = \"1\""
   ]
  },
  {
   "cell_type": "code",
   "execution_count": 2,
   "metadata": {},
   "outputs": [],
   "source": [
    "train, test = keras.datasets.cifar10.load_data()"
   ]
  },
  {
   "cell_type": "code",
   "execution_count": 3,
   "metadata": {},
   "outputs": [],
   "source": [
    "## 資料前處理\n",
    "def preproc_x(x, flatten=True):\n",
    "    x = x / 255.\n",
    "    if flatten:\n",
    "        x = x.reshape((len(x), -1))\n",
    "    return x\n",
    "\n",
    "def preproc_y(y, num_classes=10):\n",
    "    if y.shape[-1] == 1:\n",
    "        y = keras.utils.to_categorical(y, num_classes)\n",
    "    return y    "
   ]
  },
  {
   "cell_type": "code",
   "execution_count": 4,
   "metadata": {},
   "outputs": [],
   "source": [
    "x_train, y_train = train\n",
    "x_test, y_test = test\n",
    "\n",
    "# Preproc the inputs\n",
    "x_train = preproc_x(x_train)\n",
    "x_test = preproc_x(x_test)\n",
    "\n",
    "# Preprc the outputs\n",
    "y_train = preproc_y(y_train)\n",
    "y_test = preproc_y(y_test)"
   ]
  },
  {
   "cell_type": "code",
   "execution_count": 5,
   "metadata": {},
   "outputs": [],
   "source": [
    "from keras.layers import BatchNormalization\n",
    "from keras.models import Model\n",
    "from keras.layers import Dense, Input\n",
    "\n",
    "\n",
    "def build_mlp(input_shape, output_units=10, num_neurons=[256, 256, 256]):\n",
    "    \"\"\"Code Here\n",
    "    建立你的神經網路\n",
    "    \"\"\"\n",
    "    input = Input(input_shape)\n",
    "    for i, n in enumerate(num_neurons):\n",
    "      if i == 0:\n",
    "        x = Dense(n, activation='relu')(input)\n",
    "      else: \n",
    "        x = Dense(n, activation='relu')(x)\n",
    "    output = Dense(output_units, activation='softmax')(x)\n",
    "    model = Model(inputs=[input], outputs=[output])\n",
    "    return model"
   ]
  },
  {
   "cell_type": "code",
   "execution_count": 6,
   "metadata": {},
   "outputs": [],
   "source": [
    "## 超參數設定\n",
    "LEARNING_RATE = 1e-3\n",
    "EPOCHS = 25\n",
    "BATCH_SIZE = 1024\n",
    "MOMENTUM = 0.95"
   ]
  },
  {
   "cell_type": "code",
   "execution_count": 7,
   "metadata": {},
   "outputs": [],
   "source": [
    "\n",
    "# 載入 Callbacks\n",
    "from keras.callbacks import Callback\n",
    "\n",
    "# Record_fp_tp\n",
    "\n",
    "\"\"\"Code Here\n",
    "    撰寫一個紀錄 ture positive 與 true negative 數量的 callbacks    \n",
    "\"\"\"\n",
    "class Record_tp_tn(Callback):\n",
    "    def on_train_begin(self, epoch, logs = {}):\n",
    "        logs = logs or {}\n",
    "        record_items = [\"val_tp\", \"val_tn\"]\n",
    "        for i in record_items:\n",
    "            if i not in self.params['metrics']:\n",
    "                self.params['metrics'].append(i)\n",
    "    \n",
    "    def on_epoch_end(self, epoch, logs = {}, thres=0.5):\n",
    "        logs = logs or {}\n",
    "        y_true = self.validation_data[1].argmax(axis = 1)\n",
    "        y_pred = self.model.predict(self.validation_data[0])\n",
    "        y_pred = (y_pred[:, 1] >= thres) * 1\n",
    "        tp = sum(y_true*y_pred)\n",
    "        tn = sum((y_true==0) & (y_pred==0))\n",
    "        \n",
    "        logs[\"val_tp\"] = tp\n",
    "        logs[\"val_tn\"] = tn\n",
    "        \n",
    "tptn = Record_tp_tn()"
   ]
  },
  {
   "cell_type": "code",
   "execution_count": 8,
   "metadata": {
    "scrolled": true
   },
   "outputs": [
    {
     "name": "stdout",
     "output_type": "stream",
     "text": [
      "Model: \"model_1\"\n",
      "_________________________________________________________________\n",
      "Layer (type)                 Output Shape              Param #   \n",
      "=================================================================\n",
      "input_1 (InputLayer)         (None, 3072)              0         \n",
      "_________________________________________________________________\n",
      "dense_1 (Dense)              (None, 256)               786688    \n",
      "_________________________________________________________________\n",
      "dense_2 (Dense)              (None, 256)               65792     \n",
      "_________________________________________________________________\n",
      "dense_3 (Dense)              (None, 256)               65792     \n",
      "_________________________________________________________________\n",
      "dense_4 (Dense)              (None, 10)                2570      \n",
      "=================================================================\n",
      "Total params: 920,842\n",
      "Trainable params: 920,842\n",
      "Non-trainable params: 0\n",
      "_________________________________________________________________\n",
      "Train on 50000 samples, validate on 10000 samples\n",
      "Epoch 1/25\n",
      "50000/50000 [==============================] - 2s 48us/step - loss: 2.2390 - accuracy: 0.1805 - val_loss: 2.1488 - val_accuracy: 0.2447\n",
      "Epoch 2/25\n",
      "50000/50000 [==============================] - 2s 47us/step - loss: 2.0771 - accuracy: 0.2557 - val_loss: 2.0138 - val_accuracy: 0.2742\n",
      "Epoch 3/25\n",
      "50000/50000 [==============================] - 2s 47us/step - loss: 1.9747 - accuracy: 0.2960 - val_loss: 1.9412 - val_accuracy: 0.3104\n",
      "Epoch 4/25\n",
      "50000/50000 [==============================] - 2s 48us/step - loss: 1.9157 - accuracy: 0.3238 - val_loss: 1.8934 - val_accuracy: 0.3270\n",
      "Epoch 5/25\n",
      "50000/50000 [==============================] - 2s 47us/step - loss: 1.8739 - accuracy: 0.3400 - val_loss: 1.8570 - val_accuracy: 0.3436\n",
      "Epoch 6/25\n",
      "50000/50000 [==============================] - 2s 47us/step - loss: 1.8412 - accuracy: 0.3541 - val_loss: 1.8277 - val_accuracy: 0.3517\n",
      "Epoch 7/25\n",
      "50000/50000 [==============================] - 2s 48us/step - loss: 1.8138 - accuracy: 0.3649 - val_loss: 1.8017 - val_accuracy: 0.3656\n",
      "Epoch 8/25\n",
      "50000/50000 [==============================] - 2s 47us/step - loss: 1.7897 - accuracy: 0.3734 - val_loss: 1.7787 - val_accuracy: 0.3756\n",
      "Epoch 9/25\n",
      "50000/50000 [==============================] - 2s 48us/step - loss: 1.7680 - accuracy: 0.3811 - val_loss: 1.7578 - val_accuracy: 0.3818\n",
      "Epoch 10/25\n",
      "50000/50000 [==============================] - 2s 47us/step - loss: 1.7486 - accuracy: 0.3887 - val_loss: 1.7389 - val_accuracy: 0.3919\n",
      "Epoch 11/25\n",
      "50000/50000 [==============================] - 2s 47us/step - loss: 1.7306 - accuracy: 0.3941 - val_loss: 1.7227 - val_accuracy: 0.3969\n",
      "Epoch 12/25\n",
      "50000/50000 [==============================] - 2s 48us/step - loss: 1.7139 - accuracy: 0.3995 - val_loss: 1.7061 - val_accuracy: 0.4031\n",
      "Epoch 13/25\n",
      "50000/50000 [==============================] - 2s 47us/step - loss: 1.6979 - accuracy: 0.4052 - val_loss: 1.6918 - val_accuracy: 0.4059\n",
      "Epoch 14/25\n",
      "50000/50000 [==============================] - 2s 47us/step - loss: 1.6842 - accuracy: 0.4098 - val_loss: 1.6798 - val_accuracy: 0.4101\n",
      "Epoch 15/25\n",
      "50000/50000 [==============================] - 2s 48us/step - loss: 1.6706 - accuracy: 0.4165 - val_loss: 1.6691 - val_accuracy: 0.4117\n",
      "Epoch 16/25\n",
      "50000/50000 [==============================] - 2s 48us/step - loss: 1.6579 - accuracy: 0.4188 - val_loss: 1.6542 - val_accuracy: 0.4172\n",
      "Epoch 17/25\n",
      "50000/50000 [==============================] - 2s 48us/step - loss: 1.6458 - accuracy: 0.4233 - val_loss: 1.6435 - val_accuracy: 0.4206\n",
      "Epoch 18/25\n",
      "50000/50000 [==============================] - 2s 48us/step - loss: 1.6343 - accuracy: 0.4280 - val_loss: 1.6329 - val_accuracy: 0.4258\n",
      "Epoch 19/25\n",
      "50000/50000 [==============================] - 2s 47us/step - loss: 1.6226 - accuracy: 0.4307 - val_loss: 1.6240 - val_accuracy: 0.4269\n",
      "Epoch 20/25\n",
      "50000/50000 [==============================] - 2s 48us/step - loss: 1.6120 - accuracy: 0.4345 - val_loss: 1.6156 - val_accuracy: 0.4330\n",
      "Epoch 21/25\n",
      "50000/50000 [==============================] - 2s 48us/step - loss: 1.6027 - accuracy: 0.4385 - val_loss: 1.6069 - val_accuracy: 0.4372\n",
      "Epoch 22/25\n",
      "50000/50000 [==============================] - 2s 48us/step - loss: 1.5930 - accuracy: 0.4417 - val_loss: 1.6010 - val_accuracy: 0.4352\n",
      "Epoch 23/25\n",
      "50000/50000 [==============================] - 2s 48us/step - loss: 1.5832 - accuracy: 0.4440 - val_loss: 1.5912 - val_accuracy: 0.4386\n",
      "Epoch 24/25\n",
      "50000/50000 [==============================] - 2s 48us/step - loss: 1.5739 - accuracy: 0.4476 - val_loss: 1.5824 - val_accuracy: 0.4418\n",
      "Epoch 25/25\n",
      "50000/50000 [==============================] - 2s 47us/step - loss: 1.5654 - accuracy: 0.4510 - val_loss: 1.5758 - val_accuracy: 0.4449\n"
     ]
    }
   ],
   "source": [
    "model = build_mlp(input_shape=x_train.shape[1:])\n",
    "model.summary()\n",
    "optimizer = keras.optimizers.SGD(lr=LEARNING_RATE, nesterov=True, momentum=MOMENTUM)\n",
    "model.compile(loss=\"categorical_crossentropy\", metrics=[\"accuracy\"], optimizer=optimizer)\n",
    "\n",
    "\"\"\"Code Here\n",
    "將 callbacks 放入模型訓練流程中\n",
    "\"\"\"\n",
    "model.fit(x_train, y_train, validation_data=(x_test, y_test), epochs= EPOCHS, batch_size=BATCH_SIZE, callbacks=[tptn])\n",
    "# Collect results\n",
    "train_loss = model.history.history[\"loss\"]\n",
    "valid_loss = model.history.history[\"val_loss\"]\n",
    "train_acc = model.history.history[\"accuracy\"]\n",
    "valid_acc = model.history.history[\"val_accuracy\"]\n",
    "\n",
    "\"\"\"Code Here\n",
    "將 tp/tn 從訓練完的模型中取出\n",
    "\"\"\"\n",
    "valid_tp = model.history.history[\"val_tp\"]\n",
    "valid_tn = model.history.history[\"val_tn\"] "
   ]
  },
  {
   "cell_type": "code",
   "execution_count": 9,
   "metadata": {},
   "outputs": [
    {
     "data": {
      "image/png": "[encoded data removed]",
      "text/plain": [
       "<Figure size 432x288 with 1 Axes>"
      ]
     },
     "metadata": {
      "needs_background": "light"
     },
     "output_type": "display_data"
    },
    {
     "data": {
      "image/png": "[encoded data removed]",
      "text/plain": [
       "<Figure size 432x288 with 1 Axes>"
      ]
     },
     "metadata": {
      "needs_background": "light"
     },
     "output_type": "display_data"
    },
    {
     "data": {
      "image/png": "[encoded data removed]",
      "text/plain": [
       "<Figure size 432x288 with 1 Axes>"
      ]
     },
     "metadata": {
      "needs_background": "light"
     },
     "output_type": "display_data"
    }
   ],
   "source": [
    "import matplotlib.pyplot as plt\n",
    "%matplotlib inline\n",
    "\n",
    "plt.plot(range(len(train_loss)), train_loss, label=\"train loss\")\n",
    "plt.plot(range(len(valid_loss)), valid_loss, label=\"valid loss\")\n",
    "plt.legend()\n",
    "plt.title(\"Loss\")\n",
    "plt.show()\n",
    "\n",
    "plt.plot(range(len(train_acc)), train_acc, label=\"train accuracy\")\n",
    "plt.plot(range(len(valid_acc)), valid_acc, label=\"valid accuracy\")\n",
    "plt.legend()\n",
    "plt.title(\"Accuracy\")\n",
    "plt.show()\n",
    "\n",
    "plt.plot(range(len(valid_tp)), valid_tp, label=\"valid tp\", color=\"navy\")\n",
    "plt.plot(range(len(valid_tn)), valid_tn, label=\"valid tn\", color=\"red\")\n",
    "plt.legend()\n",
    "plt.title(\"True positives and True Negatives\")\n",
    "plt.show()\n"
   ]
  },
  {
   "cell_type": "code",
   "execution_count": null,
   "metadata": {},
   "outputs": [],
   "source": []
  }
 ],
 "metadata": {
  "kernelspec": {
   "display_name": "Python 3",
   "language": "python",
   "name": "python3"
  },
  "language_info": {
   "codemirror_mode": {
    "name": "ipython",
    "version": 3
   },
   "file_extension": ".py",
   "mimetype": "text/x-python",
   "name": "python",
   "nbconvert_exporter": "python",
   "pygments_lexer": "ipython3",
   "version": "3.7.3"
  }
 },
 "nbformat": 4,
 "nbformat_minor": 2
}
