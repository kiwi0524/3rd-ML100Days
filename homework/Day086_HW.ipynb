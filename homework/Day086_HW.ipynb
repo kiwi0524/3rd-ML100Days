{
 "cells": [
  {
   "cell_type": "markdown",
   "metadata": {},
   "source": [
    "## Work\n",
    "1. 試比較 save_best_only 與否的差異\n",
    "2. 請僅存入將 save_weights_only 設定為 True, 並嘗試 reset ipynb 並將模型與權重重新建回並預測 x_test"
   ]
  },
  {
   "cell_type": "code",
   "execution_count": 1,
   "metadata": {},
   "outputs": [
    {
     "name": "stderr",
     "output_type": "stream",
     "text": [
      "Using TensorFlow backend.\n"
     ]
    }
   ],
   "source": [
    "import os\n",
    "import keras\n",
    "\n",
    "# Disable GPU\n",
    "os.environ[\"CUDA_VISIBLE_DEVICES\"] = \"1\""
   ]
  },
  {
   "cell_type": "code",
   "execution_count": 2,
   "metadata": {},
   "outputs": [],
   "source": [
    "train, test = keras.datasets.cifar10.load_data()"
   ]
  },
  {
   "cell_type": "code",
   "execution_count": 3,
   "metadata": {},
   "outputs": [],
   "source": [
    "## 資料前處理\n",
    "def preproc_x(x, flatten=True):\n",
    "    x = x / 255.\n",
    "    if flatten:\n",
    "        x = x.reshape((len(x), -1))\n",
    "    return x\n",
    "\n",
    "def preproc_y(y, num_classes=10):\n",
    "    if y.shape[-1] == 1:\n",
    "        y = keras.utils.to_categorical(y, num_classes)\n",
    "    return y    "
   ]
  },
  {
   "cell_type": "code",
   "execution_count": 4,
   "metadata": {},
   "outputs": [],
   "source": [
    "x_train, y_train = train\n",
    "x_test, y_test = test\n",
    "\n",
    "# Preproc the inputs\n",
    "x_train = preproc_x(x_train)\n",
    "x_test = preproc_x(x_test)\n",
    "\n",
    "# Preprc the outputs\n",
    "y_train = preproc_y(y_train)\n",
    "y_test = preproc_y(y_test)"
   ]
  },
  {
   "cell_type": "code",
   "execution_count": 5,
   "metadata": {},
   "outputs": [],
   "source": [
    "from keras.models import Sequential, Model\n",
    "from keras.layers import Dense\n",
    "def build_mlp(input, output, neurons):\n",
    "  model = Sequential()\n",
    "  j = 0\n",
    "  for n in neurons:\n",
    "    print(n)\n",
    "    j+=1\n",
    "    if j ==1:\n",
    "      model.add(Dense(units=n, input_dim= input.shape[1], activation='relu' ))\n",
    "    else: \n",
    "      model.add(Dense(units=n, activation='relu' ))\n",
    "  model.add(Dense(units=output, activation='softmax'))\n",
    "    \n",
    "  return model"
   ]
  },
  {
   "cell_type": "code",
   "execution_count": 6,
   "metadata": {},
   "outputs": [],
   "source": [
    "\"\"\"Code Here\n",
    "設定超參數\n",
    "\"\"\"\n",
    "epochs=100\n",
    "batch_size=256"
   ]
  },
  {
   "cell_type": "code",
   "execution_count": 10,
   "metadata": {},
   "outputs": [
    {
     "name": "stdout",
     "output_type": "stream",
     "text": [
      "256\n",
      "128\n",
      "64\n",
      "Train on 50000 samples, validate on 10000 samples\n",
      "Epoch 1/100\n",
      "50000/50000 [==============================] - 3s 69us/step - loss: 1.9598 - accuracy: 0.2933 - val_loss: 1.8474 - val_accuracy: 0.3425\n",
      "Epoch 2/100\n",
      "50000/50000 [==============================] - 3s 68us/step - loss: 1.7501 - accuracy: 0.3718 - val_loss: 1.6915 - val_accuracy: 0.3961\n",
      "Epoch 3/100\n",
      "50000/50000 [==============================] - 3s 70us/step - loss: 1.6587 - accuracy: 0.4064 - val_loss: 1.6246 - val_accuracy: 0.4184\n",
      "Epoch 4/100\n",
      "50000/50000 [==============================] - 4s 70us/step - loss: 1.5868 - accuracy: 0.4349 - val_loss: 1.6046 - val_accuracy: 0.4354\n",
      "Epoch 5/100\n",
      "50000/50000 [==============================] - 4s 70us/step - loss: 1.5592 - accuracy: 0.4446 - val_loss: 1.5341 - val_accuracy: 0.4509\n",
      "Epoch 6/100\n",
      "50000/50000 [==============================] - 4s 71us/step - loss: 1.5211 - accuracy: 0.4564 - val_loss: 1.5328 - val_accuracy: 0.4539\n",
      "Epoch 7/100\n",
      "50000/50000 [==============================] - 4s 71us/step - loss: 1.4794 - accuracy: 0.4744 - val_loss: 1.5026 - val_accuracy: 0.4632\n",
      "Epoch 8/100\n",
      "50000/50000 [==============================] - 4s 71us/step - loss: 1.4577 - accuracy: 0.4801 - val_loss: 1.4787 - val_accuracy: 0.4720\n",
      "Epoch 9/100\n",
      "50000/50000 [==============================] - 4s 71us/step - loss: 1.4283 - accuracy: 0.4893 - val_loss: 1.4481 - val_accuracy: 0.4893\n",
      "Epoch 10/100\n",
      "50000/50000 [==============================] - 4s 71us/step - loss: 1.4127 - accuracy: 0.4942 - val_loss: 1.4982 - val_accuracy: 0.4679\n",
      "Epoch 11/100\n",
      "50000/50000 [==============================] - 4s 71us/step - loss: 1.3909 - accuracy: 0.5027 - val_loss: 1.4303 - val_accuracy: 0.4951\n",
      "Epoch 12/100\n",
      "50000/50000 [==============================] - 4s 71us/step - loss: 1.3755 - accuracy: 0.5089 - val_loss: 1.4449 - val_accuracy: 0.4866\n",
      "Epoch 13/100\n",
      "50000/50000 [==============================] - 4s 70us/step - loss: 1.3532 - accuracy: 0.5159 - val_loss: 1.4189 - val_accuracy: 0.4951\n",
      "Epoch 14/100\n",
      "50000/50000 [==============================] - 4s 72us/step - loss: 1.3308 - accuracy: 0.5229 - val_loss: 1.4258 - val_accuracy: 0.4964\n",
      "Epoch 15/100\n",
      "50000/50000 [==============================] - 4s 70us/step - loss: 1.3155 - accuracy: 0.5316 - val_loss: 1.4316 - val_accuracy: 0.4906\n",
      "Epoch 16/100\n",
      "50000/50000 [==============================] - 3s 70us/step - loss: 1.3069 - accuracy: 0.5335 - val_loss: 1.4185 - val_accuracy: 0.4992\n",
      "Epoch 17/100\n",
      "50000/50000 [==============================] - 4s 71us/step - loss: 1.2841 - accuracy: 0.5405 - val_loss: 1.4547 - val_accuracy: 0.4809\n",
      "Epoch 18/100\n",
      "50000/50000 [==============================] - 4s 71us/step - loss: 1.2718 - accuracy: 0.5466 - val_loss: 1.3990 - val_accuracy: 0.5083\n",
      "Epoch 19/100\n",
      "50000/50000 [==============================] - 4s 72us/step - loss: 1.2470 - accuracy: 0.5565 - val_loss: 1.3931 - val_accuracy: 0.5110\n",
      "Epoch 20/100\n",
      "50000/50000 [==============================] - 4s 72us/step - loss: 1.2394 - accuracy: 0.5572 - val_loss: 1.4104 - val_accuracy: 0.5043\n",
      "Epoch 21/100\n",
      "50000/50000 [==============================] - 4s 71us/step - loss: 1.2276 - accuracy: 0.5638 - val_loss: 1.4028 - val_accuracy: 0.5008\n",
      "Epoch 22/100\n",
      "50000/50000 [==============================] - 4s 71us/step - loss: 1.2221 - accuracy: 0.5650 - val_loss: 1.3926 - val_accuracy: 0.5134\n",
      "Epoch 23/100\n",
      "50000/50000 [==============================] - 4s 72us/step - loss: 1.2109 - accuracy: 0.5681 - val_loss: 1.3867 - val_accuracy: 0.5168\n",
      "Epoch 24/100\n",
      "50000/50000 [==============================] - 4s 72us/step - loss: 1.1888 - accuracy: 0.5774 - val_loss: 1.3793 - val_accuracy: 0.5234\n",
      "Epoch 25/100\n",
      "50000/50000 [==============================] - 4s 72us/step - loss: 1.1817 - accuracy: 0.5750 - val_loss: 1.4090 - val_accuracy: 0.5040\n",
      "Epoch 26/100\n",
      "50000/50000 [==============================] - 4s 71us/step - loss: 1.1826 - accuracy: 0.5789 - val_loss: 1.3688 - val_accuracy: 0.5171\n",
      "Epoch 27/100\n",
      "50000/50000 [==============================] - 4s 71us/step - loss: 1.1497 - accuracy: 0.5901 - val_loss: 1.3990 - val_accuracy: 0.5146\n",
      "Epoch 28/100\n",
      "50000/50000 [==============================] - 4s 71us/step - loss: 1.1502 - accuracy: 0.5901 - val_loss: 1.4000 - val_accuracy: 0.5103\n",
      "Epoch 29/100\n",
      "50000/50000 [==============================] - 4s 71us/step - loss: 1.1442 - accuracy: 0.5923 - val_loss: 1.3665 - val_accuracy: 0.5231\n",
      "Epoch 30/100\n",
      "50000/50000 [==============================] - 4s 72us/step - loss: 1.1366 - accuracy: 0.5958 - val_loss: 1.3950 - val_accuracy: 0.5208\n",
      "Epoch 31/100\n",
      "50000/50000 [==============================] - 4s 72us/step - loss: 1.1337 - accuracy: 0.5949 - val_loss: 1.4248 - val_accuracy: 0.5095\n",
      "Epoch 32/100\n",
      "50000/50000 [==============================] - 4s 71us/step - loss: 1.1135 - accuracy: 0.6047 - val_loss: 1.3764 - val_accuracy: 0.5239\n",
      "Epoch 33/100\n",
      "50000/50000 [==============================] - 4s 72us/step - loss: 1.0995 - accuracy: 0.6075 - val_loss: 1.4106 - val_accuracy: 0.5147\n",
      "Epoch 34/100\n",
      "50000/50000 [==============================] - 4s 71us/step - loss: 1.0960 - accuracy: 0.6090 - val_loss: 1.4142 - val_accuracy: 0.5133\n",
      "Epoch 35/100\n",
      "50000/50000 [==============================] - 4s 72us/step - loss: 1.0942 - accuracy: 0.6088 - val_loss: 1.3915 - val_accuracy: 0.5192\n",
      "Epoch 36/100\n",
      "50000/50000 [==============================] - 4s 71us/step - loss: 1.0852 - accuracy: 0.6142 - val_loss: 1.4030 - val_accuracy: 0.5225\n",
      "Epoch 37/100\n",
      "50000/50000 [==============================] - 4s 72us/step - loss: 1.0697 - accuracy: 0.6168 - val_loss: 1.4207 - val_accuracy: 0.5106\n",
      "Epoch 38/100\n",
      "50000/50000 [==============================] - 4s 71us/step - loss: 1.0562 - accuracy: 0.6225 - val_loss: 1.3895 - val_accuracy: 0.5211\n",
      "Epoch 39/100\n",
      "50000/50000 [==============================] - 4s 72us/step - loss: 1.0507 - accuracy: 0.6251 - val_loss: 1.4115 - val_accuracy: 0.5185\n",
      "Epoch 40/100\n",
      "50000/50000 [==============================] - 4s 71us/step - loss: 1.0446 - accuracy: 0.6283 - val_loss: 1.3949 - val_accuracy: 0.5187\n",
      "Epoch 41/100\n",
      "50000/50000 [==============================] - 4s 72us/step - loss: 1.0388 - accuracy: 0.6284 - val_loss: 1.4370 - val_accuracy: 0.5132\n",
      "Epoch 42/100\n",
      "50000/50000 [==============================] - 4s 72us/step - loss: 1.0277 - accuracy: 0.6326 - val_loss: 1.4365 - val_accuracy: 0.5233\n",
      "Epoch 43/100\n",
      "50000/50000 [==============================] - 4s 72us/step - loss: 1.0188 - accuracy: 0.6352 - val_loss: 1.4360 - val_accuracy: 0.5194\n",
      "Epoch 44/100\n",
      "50000/50000 [==============================] - 4s 72us/step - loss: 1.0112 - accuracy: 0.6402 - val_loss: 1.4291 - val_accuracy: 0.5234\n",
      "Epoch 45/100\n",
      "50000/50000 [==============================] - 4s 72us/step - loss: 1.0058 - accuracy: 0.6391 - val_loss: 1.4251 - val_accuracy: 0.5238\n",
      "Epoch 46/100\n",
      "50000/50000 [==============================] - 4s 72us/step - loss: 0.9943 - accuracy: 0.6463 - val_loss: 1.4550 - val_accuracy: 0.5170\n",
      "Epoch 47/100\n",
      "50000/50000 [==============================] - 4s 71us/step - loss: 0.9910 - accuracy: 0.6460 - val_loss: 1.4574 - val_accuracy: 0.5202\n",
      "Epoch 48/100\n",
      "50000/50000 [==============================] - 4s 72us/step - loss: 0.9820 - accuracy: 0.6498 - val_loss: 1.4625 - val_accuracy: 0.5181\n",
      "Epoch 49/100\n",
      "50000/50000 [==============================] - 4s 72us/step - loss: 0.9753 - accuracy: 0.6511 - val_loss: 1.4684 - val_accuracy: 0.5191\n",
      "Epoch 50/100\n",
      "50000/50000 [==============================] - 4s 73us/step - loss: 0.9713 - accuracy: 0.6544 - val_loss: 1.4839 - val_accuracy: 0.5143\n",
      "Epoch 51/100\n",
      "50000/50000 [==============================] - 4s 72us/step - loss: 0.9640 - accuracy: 0.6575 - val_loss: 1.4856 - val_accuracy: 0.5176\n",
      "Epoch 52/100\n",
      "50000/50000 [==============================] - 4s 71us/step - loss: 0.9485 - accuracy: 0.6609 - val_loss: 1.4755 - val_accuracy: 0.5178\n",
      "Epoch 53/100\n",
      "50000/50000 [==============================] - 4s 72us/step - loss: 0.9502 - accuracy: 0.6598 - val_loss: 1.4977 - val_accuracy: 0.5148\n",
      "Epoch 54/100\n",
      "50000/50000 [==============================] - 4s 72us/step - loss: 0.9390 - accuracy: 0.6650 - val_loss: 1.5024 - val_accuracy: 0.5195\n",
      "Epoch 55/100\n"
     ]
    },
    {
     "name": "stdout",
     "output_type": "stream",
     "text": [
      "50000/50000 [==============================] - 4s 71us/step - loss: 0.9381 - accuracy: 0.6654 - val_loss: 1.5101 - val_accuracy: 0.5083\n",
      "Epoch 56/100\n",
      "50000/50000 [==============================] - 4s 71us/step - loss: 0.9267 - accuracy: 0.6698 - val_loss: 1.5154 - val_accuracy: 0.5097\n",
      "Epoch 57/100\n",
      "50000/50000 [==============================] - 4s 71us/step - loss: 0.9205 - accuracy: 0.6686 - val_loss: 1.4953 - val_accuracy: 0.5188\n",
      "Epoch 58/100\n",
      "50000/50000 [==============================] - 4s 72us/step - loss: 0.9119 - accuracy: 0.6762 - val_loss: 1.4953 - val_accuracy: 0.5194\n",
      "Epoch 59/100\n",
      "50000/50000 [==============================] - 4s 71us/step - loss: 0.9121 - accuracy: 0.6752 - val_loss: 1.5257 - val_accuracy: 0.5205\n",
      "Epoch 60/100\n",
      "50000/50000 [==============================] - 4s 71us/step - loss: 0.9021 - accuracy: 0.6786 - val_loss: 1.5478 - val_accuracy: 0.5224\n",
      "Epoch 61/100\n",
      "50000/50000 [==============================] - 4s 72us/step - loss: 0.8947 - accuracy: 0.6804 - val_loss: 1.5489 - val_accuracy: 0.5115\n",
      "Epoch 62/100\n",
      "50000/50000 [==============================] - 4s 71us/step - loss: 0.8863 - accuracy: 0.6826 - val_loss: 1.5993 - val_accuracy: 0.5106\n",
      "Epoch 63/100\n",
      "50000/50000 [==============================] - 4s 72us/step - loss: 0.8797 - accuracy: 0.6846 - val_loss: 1.5670 - val_accuracy: 0.5156\n",
      "Epoch 64/100\n",
      "50000/50000 [==============================] - 4s 72us/step - loss: 0.8845 - accuracy: 0.6846 - val_loss: 1.5900 - val_accuracy: 0.5149\n",
      "Epoch 65/100\n",
      "50000/50000 [==============================] - 4s 72us/step - loss: 0.8656 - accuracy: 0.6896 - val_loss: 1.5601 - val_accuracy: 0.5190\n",
      "Epoch 66/100\n",
      "50000/50000 [==============================] - 4s 72us/step - loss: 0.8618 - accuracy: 0.6908 - val_loss: 1.6090 - val_accuracy: 0.5122\n",
      "Epoch 67/100\n",
      "50000/50000 [==============================] - 4s 74us/step - loss: 0.8649 - accuracy: 0.6899 - val_loss: 1.5851 - val_accuracy: 0.5161\n",
      "Epoch 68/100\n",
      "50000/50000 [==============================] - 4s 72us/step - loss: 0.8526 - accuracy: 0.6929 - val_loss: 1.5729 - val_accuracy: 0.5178\n",
      "Epoch 69/100\n",
      "50000/50000 [==============================] - 4s 72us/step - loss: 0.8605 - accuracy: 0.6917 - val_loss: 1.6010 - val_accuracy: 0.5083\n",
      "Epoch 70/100\n",
      "50000/50000 [==============================] - 4s 71us/step - loss: 0.8445 - accuracy: 0.6983 - val_loss: 1.6236 - val_accuracy: 0.5188\n",
      "Epoch 71/100\n",
      "50000/50000 [==============================] - 4s 71us/step - loss: 0.8415 - accuracy: 0.6980 - val_loss: 1.5936 - val_accuracy: 0.5159\n",
      "Epoch 72/100\n",
      "50000/50000 [==============================] - 4s 72us/step - loss: 0.8473 - accuracy: 0.6949 - val_loss: 1.6696 - val_accuracy: 0.5158\n",
      "Epoch 73/100\n",
      "50000/50000 [==============================] - 4s 72us/step - loss: 0.8379 - accuracy: 0.6990 - val_loss: 1.5979 - val_accuracy: 0.5139\n",
      "Epoch 74/100\n",
      "50000/50000 [==============================] - 4s 72us/step - loss: 0.8304 - accuracy: 0.7009 - val_loss: 1.6211 - val_accuracy: 0.5191\n",
      "Epoch 75/100\n",
      "50000/50000 [==============================] - 4s 71us/step - loss: 0.8192 - accuracy: 0.7089 - val_loss: 1.6585 - val_accuracy: 0.5110\n",
      "Epoch 76/100\n",
      "50000/50000 [==============================] - 4s 73us/step - loss: 0.8151 - accuracy: 0.7082 - val_loss: 1.6234 - val_accuracy: 0.5207\n",
      "Epoch 77/100\n",
      "50000/50000 [==============================] - 4s 72us/step - loss: 0.8028 - accuracy: 0.7143 - val_loss: 1.6984 - val_accuracy: 0.5137\n",
      "Epoch 78/100\n",
      "50000/50000 [==============================] - 4s 72us/step - loss: 0.8040 - accuracy: 0.7136 - val_loss: 1.7120 - val_accuracy: 0.5031\n",
      "Epoch 79/100\n",
      "50000/50000 [==============================] - 4s 72us/step - loss: 0.8093 - accuracy: 0.7082 - val_loss: 1.7114 - val_accuracy: 0.5125\n",
      "Epoch 80/100\n",
      "50000/50000 [==============================] - 4s 72us/step - loss: 0.8109 - accuracy: 0.7071 - val_loss: 1.7131 - val_accuracy: 0.5016\n",
      "Epoch 81/100\n",
      "50000/50000 [==============================] - 4s 71us/step - loss: 0.7895 - accuracy: 0.7165 - val_loss: 1.7098 - val_accuracy: 0.5144\n",
      "Epoch 82/100\n",
      "50000/50000 [==============================] - 4s 72us/step - loss: 0.7869 - accuracy: 0.7176 - val_loss: 1.6791 - val_accuracy: 0.5162\n",
      "Epoch 83/100\n",
      "50000/50000 [==============================] - 4s 72us/step - loss: 0.7745 - accuracy: 0.7206 - val_loss: 1.7161 - val_accuracy: 0.5091\n",
      "Epoch 84/100\n",
      "50000/50000 [==============================] - 4s 72us/step - loss: 0.7691 - accuracy: 0.7240 - val_loss: 1.7720 - val_accuracy: 0.5070\n",
      "Epoch 85/100\n",
      "50000/50000 [==============================] - 4s 72us/step - loss: 0.7737 - accuracy: 0.7234 - val_loss: 1.7350 - val_accuracy: 0.5115\n",
      "Epoch 86/100\n",
      "50000/50000 [==============================] - 4s 72us/step - loss: 0.7649 - accuracy: 0.7258 - val_loss: 1.7728 - val_accuracy: 0.5049\n",
      "Epoch 87/100\n",
      "50000/50000 [==============================] - 4s 72us/step - loss: 0.7544 - accuracy: 0.7302 - val_loss: 1.7726 - val_accuracy: 0.5087\n",
      "Epoch 88/100\n",
      "50000/50000 [==============================] - 4s 73us/step - loss: 0.7671 - accuracy: 0.7244 - val_loss: 1.7438 - val_accuracy: 0.5127\n",
      "Epoch 89/100\n",
      "50000/50000 [==============================] - 4s 72us/step - loss: 0.7542 - accuracy: 0.7294 - val_loss: 1.8101 - val_accuracy: 0.5033\n",
      "Epoch 90/100\n",
      "50000/50000 [==============================] - 4s 72us/step - loss: 0.7482 - accuracy: 0.7298 - val_loss: 1.7759 - val_accuracy: 0.5070\n",
      "Epoch 91/100\n",
      "50000/50000 [==============================] - 4s 72us/step - loss: 0.7472 - accuracy: 0.7331 - val_loss: 1.7679 - val_accuracy: 0.5004\n",
      "Epoch 92/100\n",
      "50000/50000 [==============================] - 4s 72us/step - loss: 0.7465 - accuracy: 0.7303 - val_loss: 1.7811 - val_accuracy: 0.5080\n",
      "Epoch 93/100\n",
      "50000/50000 [==============================] - 4s 72us/step - loss: 0.7419 - accuracy: 0.7328 - val_loss: 1.8402 - val_accuracy: 0.5040\n",
      "Epoch 94/100\n",
      "50000/50000 [==============================] - 4s 72us/step - loss: 0.7247 - accuracy: 0.7410 - val_loss: 1.8073 - val_accuracy: 0.5090\n",
      "Epoch 95/100\n",
      "50000/50000 [==============================] - 4s 72us/step - loss: 0.7348 - accuracy: 0.7362 - val_loss: 1.8273 - val_accuracy: 0.5052\n",
      "Epoch 96/100\n",
      "50000/50000 [==============================] - 4s 72us/step - loss: 0.7253 - accuracy: 0.7389 - val_loss: 1.8201 - val_accuracy: 0.5043\n",
      "Epoch 97/100\n",
      "50000/50000 [==============================] - 4s 72us/step - loss: 0.7330 - accuracy: 0.7358 - val_loss: 1.8591 - val_accuracy: 0.5077\n",
      "Epoch 98/100\n",
      "50000/50000 [==============================] - 4s 72us/step - loss: 0.7297 - accuracy: 0.7388 - val_loss: 1.8531 - val_accuracy: 0.5051\n",
      "Epoch 99/100\n",
      "50000/50000 [==============================] - 4s 73us/step - loss: 0.7048 - accuracy: 0.7459 - val_loss: 1.8768 - val_accuracy: 0.5069\n",
      "Epoch 100/100\n",
      "50000/50000 [==============================] - 4s 72us/step - loss: 0.7161 - accuracy: 0.7412 - val_loss: 1.8564 - val_accuracy: 0.5047\n",
      "10000/10000 [==============================] - 0s 36us/step\n"
     ]
    }
   ],
   "source": [
    "# 載入 Callbacks\n",
    "\"\"\"Code Here\n",
    "設定 callbacks: model checkpoint\n",
    "\"\"\"\n",
    "from keras.callbacks import ModelCheckpoint\n",
    "mcp = ModelCheckpoint(filepath=\"./tmp.h5\", \n",
    "                             monitor=\"val_loss\", \n",
    "                             save_best_only=True)\n",
    "results = {}\n",
    "\"\"\"Code Here\n",
    "撰寫你的訓練流程並將結果用 dictionary 紀錄\n",
    "\"\"\"\n",
    "model = build_mlp(x_train,len(y_train[0]), [256,128,64])\n",
    "model.compile(loss='categorical_crossentropy', optimizer='adam', metrics=['accuracy'])\n",
    "model.fit(x_train, y_train, epochs = epochs, batch_size= batch_size, validation_data=(x_test, y_test), callbacks=[mcp])\n",
    "\n",
    "\n",
    "# Collect results\n",
    "train_loss = model.history.history[\"loss\"]\n",
    "valid_loss = model.history.history[\"val_loss\"]\n",
    "train_acc = model.history.history[\"accuracy\"]\n",
    "valid_acc = model.history.history[\"val_accuracy\"]\n",
    "\n",
    "from keras.models import load_model\n",
    "# Load back\n",
    "cifar = load_model(\"./tmp.h5\")\n",
    "loss_loadback, acc_loadback = cifar.evaluate(x_test, y_test)"
   ]
  },
  {
   "cell_type": "code",
   "execution_count": 11,
   "metadata": {},
   "outputs": [
    {
     "name": "stdout",
     "output_type": "stream",
     "text": [
      "1.366472105407715 0.5231000185012817\n"
     ]
    }
   ],
   "source": [
    "\n",
    "print(loss_loadback, acc_loadback)"
   ]
  },
  {
   "cell_type": "code",
   "execution_count": 12,
   "metadata": {
    "scrolled": true
   },
   "outputs": [
    {
     "data": {
      "image/png": "[encoded data removed]",
      "text/plain": [
       "<Figure size 432x288 with 1 Axes>"
      ]
     },
     "metadata": {
      "needs_background": "light"
     },
     "output_type": "display_data"
    },
    {
     "data": {
      "image/png": "[encoded data removed]",
      "text/plain": [
       "<Figure size 432x288 with 1 Axes>"
      ]
     },
     "metadata": {
      "needs_background": "light"
     },
     "output_type": "display_data"
    }
   ],
   "source": [
    "\n",
    "\"\"\"Code Here\n",
    "將結果繪出\n",
    "\"\"\"\n",
    "\n",
    "import matplotlib.pyplot as plt\n",
    "%matplotlib inline\n",
    "\n",
    "plt.plot(range(len(train_loss)), train_loss, label=\"train loss\")\n",
    "plt.plot(range(len(valid_loss)), valid_loss, label=\"valid loss\")\n",
    "plt.hlines(y=loss_loadback, xmin=0, xmax=len(train_loss), colors='r', linestyles='--')\n",
    "plt.legend()\n",
    "plt.title(\"Loss\")\n",
    "plt.show()\n",
    "\n",
    "plt.plot(range(len(train_acc)), train_acc, label=\"train accuracy\")\n",
    "plt.plot(range(len(valid_acc)), valid_acc, label=\"valid accuracy\")\n",
    "plt.hlines(y=acc_loadback, xmin=0, xmax=len(train_loss), colors='r', linestyles='--')\n",
    "plt.legend()\n",
    "plt.title(\"Accuracy\")\n",
    "plt.show()"
   ]
  },
  {
   "cell_type": "code",
   "execution_count": null,
   "metadata": {},
   "outputs": [],
   "source": []
  }
 ],
 "metadata": {
  "kernelspec": {
   "display_name": "Python 3",
   "language": "python",
   "name": "python3"
  },
  "language_info": {
   "codemirror_mode": {
    "name": "ipython",
    "version": 3
   },
   "file_extension": ".py",
   "mimetype": "text/x-python",
   "name": "python",
   "nbconvert_exporter": "python",
   "pygments_lexer": "ipython3",
   "version": "3.7.3"
  }
 },
 "nbformat": 4,
 "nbformat_minor": 2
}
