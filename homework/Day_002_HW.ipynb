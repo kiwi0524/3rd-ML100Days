{
 "cells": [
  {
   "cell_type": "markdown",
   "metadata": {},
   "source": [
    "#請找出一個你認為機器學習可以發光發熱的領域並闡述原因?"
   ]
  },
  {
   "cell_type": "markdown",
   "metadata": {},
   "source": [
    "機械學習應用在各個領域上應該都能發光發熱\n",
    "由於目前在傳統產業工作，我自己在使用上會從日常工作來發想\n",
    "傳統產業的工業自動化已經發展了好幾年，\n",
    "隨著人工越來越貴，自動化是其趨勢\n",
    "一般的自動化已經可以把重複的工作交給機器\n",
    "但對於客製化，少量多樣的產品每次的改動都要重新設定非常不便\n",
    "如果導入機械學習，在這種情況下可能不需要重新設定\n",
    "機械就能依照目標的修改，自行找出變動的參數\n",
    "如此一來對於產品周期短，樣式多的產品可以再壓縮一些時間、人力成本\n",
    "明顯加速產業進步發展，資金也願意投入，造成正向循環。"
   ]
  }
 ],
 "metadata": {
  "kernelspec": {
   "display_name": "Python 3",
   "language": "python",
   "name": "python3"
  },
  "language_info": {
   "codemirror_mode": {
    "name": "ipython",
    "version": 3
   },
   "file_extension": ".py",
   "mimetype": "text/x-python",
   "name": "python",
   "nbconvert_exporter": "python",
   "pygments_lexer": "ipython3",
   "version": "3.7.3"
  }
 },
 "nbformat": 4,
 "nbformat_minor": 2
}
