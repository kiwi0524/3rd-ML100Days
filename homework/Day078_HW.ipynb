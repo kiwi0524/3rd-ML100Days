{
 "cells": [
  {
   "cell_type": "markdown",
   "metadata": {},
   "source": [
    "## Work\n",
    "1. 請嘗試將 preproc_x 替換成以每筆資料的 min/max 進行標準化至 -1 ~ 1 間，再進行訓練\n",
    "2. 請嘗試將 mlp 疊更深 (e.g 5~10 層)，進行訓練後觀察 learning curve 的走勢\n",
    "3. (optional) 請改用 GPU 進行訓練 (如果你有 GPU 的話)，比較使用 CPU 與 GPU 的訓練速度"
   ]
  },
  {
   "cell_type": "code",
   "execution_count": 1,
   "metadata": {},
   "outputs": [],
   "source": [
    "## \n",
    "\"\"\"\n",
    "Your code here (optional)\n",
    "確認硬體資源\n",
    "\"\"\"\n"
   ]
  },
  {
   "cell_type": "code",
   "execution_count": 1,
   "metadata": {},
   "outputs": [
    {
     "name": "stderr",
     "output_type": "stream",
     "text": [
      "Using TensorFlow backend.\n"
     ]
    }
   ],
   "source": [
    "import os\n",
    "import keras\n",
    "\n",
    "# 請嘗試設定 GPU：os.environ\n",
    "\n",
    "os.environ[\"CUDA_VISIBLE_DEVICES\"] = \"0\"\n",
    "import tensorflow as tf\n",
    "\n",
    "gpu_options = tf.compat.v1.GPUOptions(per_process_gpu_memory_fraction=0.5)\n",
    "\n",
    "sess = tf.compat.v1.Session(config=tf.compat.v1.ConfigProto(gpu_options=gpu_options))"
   ]
  },
  {
   "cell_type": "code",
   "execution_count": 2,
   "metadata": {},
   "outputs": [],
   "source": [
    "train, test = keras.datasets.cifar10.load_data()"
   ]
  },
  {
   "cell_type": "code",
   "execution_count": 3,
   "metadata": {},
   "outputs": [],
   "source": [
    "## 資料前處理\n",
    "\"\"\"\n",
    "Your code here\n",
    "\"\"\"\n",
    "def preproc_x(x, flatten=True):\n",
    "    x = 2*x/255-1\n",
    "    if flatten:\n",
    "        x = x.reshape((len(x), -1))\n",
    "    return x\n",
    "\n",
    "def preproc_y(y, num_classes=10):\n",
    "    if y.shape[-1] == 1:\n",
    "        y = keras.utils.to_categorical(y, num_classes)\n",
    "    return y"
   ]
  },
  {
   "cell_type": "code",
   "execution_count": 4,
   "metadata": {},
   "outputs": [],
   "source": [
    "x_train, y_train = train\n",
    "x_test, y_test = test\n",
    "\n",
    "# Preproc the inputs\n",
    "x_train = preproc_x(x_train)\n",
    "x_test = preproc_x(x_test)\n",
    "\n",
    "# Preprc the outputs\n",
    "y_train = preproc_y(y_train)\n",
    "y_test = preproc_y(y_test)"
   ]
  },
  {
   "cell_type": "code",
   "execution_count": 5,
   "metadata": {},
   "outputs": [
    {
     "name": "stdout",
     "output_type": "stream",
     "text": [
      "Model: \"model_1\"\n",
      "_________________________________________________________________\n",
      "Layer (type)                 Output Shape              Param #   \n",
      "=================================================================\n",
      "input_1 (InputLayer)         (None, 3072)              0         \n",
      "_________________________________________________________________\n",
      "hidden_layer1 (Dense)        (None, 256)               786688    \n",
      "_________________________________________________________________\n",
      "hidden_layer2 (Dense)        (None, 128)               32896     \n",
      "_________________________________________________________________\n",
      "hidden_layer3 (Dense)        (None, 128)               16512     \n",
      "_________________________________________________________________\n",
      "hidden_layer4 (Dense)        (None, 64)                8256      \n",
      "_________________________________________________________________\n",
      "hidden_layer5 (Dense)        (None, 64)                4160      \n",
      "_________________________________________________________________\n",
      "hidden_layer6 (Dense)        (None, 32)                2080      \n",
      "_________________________________________________________________\n",
      "hidden_layer7 (Dense)        (None, 32)                1056      \n",
      "_________________________________________________________________\n",
      "output (Dense)               (None, 10)                330       \n",
      "=================================================================\n",
      "Total params: 851,978\n",
      "Trainable params: 851,978\n",
      "Non-trainable params: 0\n",
      "_________________________________________________________________\n"
     ]
    }
   ],
   "source": [
    "\"\"\"Code Here\n",
    "建立你的神經網路\n",
    "\"\"\"\n",
    "def build_mlp(input_shape, output_units=10, num_neurons=[256, 128, 128, 64, 64, 32, 32]):\n",
    "    input_layer = keras.layers.Input(input_shape)\n",
    "    \n",
    "    for i, n_units in enumerate(num_neurons):\n",
    "        if i == 0:\n",
    "            x = keras.layers.Dense(units=n_units, activation=\"relu\", name=\"hidden_layer\"+str(i+1))(input_layer)\n",
    "        else:\n",
    "            x = keras.layers.Dense(units=n_units, activation=\"relu\", name=\"hidden_layer\"+str(i+1))(x)\n",
    "    \n",
    "    out = keras.layers.Dense(units=output_units, activation=\"softmax\", name=\"output\")(x)\n",
    "    \n",
    "    model = keras.models.Model(inputs=[input_layer], outputs=[out])\n",
    "    return model\n",
    "model = build_mlp(input_shape=x_train.shape[1:])\n",
    "model.summary()"
   ]
  },
  {
   "cell_type": "code",
   "execution_count": 6,
   "metadata": {},
   "outputs": [],
   "source": [
    "## 超參數設定\n",
    "LEARNING_RATE = 0.001\n",
    "EPOCHS = 100\n",
    "BATCH_SIZE = 256"
   ]
  },
  {
   "cell_type": "code",
   "execution_count": 7,
   "metadata": {},
   "outputs": [],
   "source": [
    "optimizer = keras.optimizers.Adam(lr=LEARNING_RATE)\n",
    "model.compile(loss=\"categorical_crossentropy\", metrics=[\"accuracy\"], optimizer=optimizer)"
   ]
  },
  {
   "cell_type": "code",
   "execution_count": 8,
   "metadata": {},
   "outputs": [
    {
     "name": "stdout",
     "output_type": "stream",
     "text": [
      "Train on 50000 samples, validate on 10000 samples\n",
      "Epoch 1/100\n",
      "50000/50000 [==============================] - 7s 136us/step - loss: 2.2634 - accuracy: 0.1409 - val_loss: 2.2197 - val_accuracy: 0.1749\n",
      "Epoch 2/100\n",
      "50000/50000 [==============================] - 6s 114us/step - loss: 2.1849 - accuracy: 0.1830 - val_loss: 2.1629 - val_accuracy: 0.1901\n",
      "Epoch 3/100\n",
      "50000/50000 [==============================] - 6s 118us/step - loss: 2.1292 - accuracy: 0.2096 - val_loss: 2.1463 - val_accuracy: 0.2063\n",
      "Epoch 4/100\n",
      "50000/50000 [==============================] - 6s 125us/step - loss: 2.0764 - accuracy: 0.2369 - val_loss: 2.0786 - val_accuracy: 0.2413\n",
      "Epoch 5/100\n",
      "50000/50000 [==============================] - 5s 103us/step - loss: 2.0322 - accuracy: 0.2574 - val_loss: 2.0615 - val_accuracy: 0.2459\n",
      "Epoch 6/100\n",
      "50000/50000 [==============================] - 5s 108us/step - loss: 1.9918 - accuracy: 0.2757 - val_loss: 2.0313 - val_accuracy: 0.2651\n",
      "Epoch 7/100\n",
      "50000/50000 [==============================] - 5s 107us/step - loss: 1.9672 - accuracy: 0.2837 - val_loss: 2.0048 - val_accuracy: 0.2706\n",
      "Epoch 8/100\n",
      "50000/50000 [==============================] - 6s 121us/step - loss: 1.9431 - accuracy: 0.2947 - val_loss: 2.0018 - val_accuracy: 0.2678\n",
      "Epoch 9/100\n",
      "50000/50000 [==============================] - 6s 111us/step - loss: 1.9136 - accuracy: 0.3052 - val_loss: 1.9922 - val_accuracy: 0.2745\n",
      "Epoch 10/100\n",
      "50000/50000 [==============================] - 6s 118us/step - loss: 1.8842 - accuracy: 0.3186 - val_loss: 1.9721 - val_accuracy: 0.2844\n",
      "Epoch 11/100\n",
      "50000/50000 [==============================] - 6s 120us/step - loss: 1.8641 - accuracy: 0.3282 - val_loss: 1.9688 - val_accuracy: 0.2889\n",
      "Epoch 12/100\n",
      "50000/50000 [==============================] - 6s 119us/step - loss: 1.8428 - accuracy: 0.3328 - val_loss: 1.9853 - val_accuracy: 0.2801\n",
      "Epoch 13/100\n",
      "50000/50000 [==============================] - 6s 118us/step - loss: 1.8188 - accuracy: 0.3438 - val_loss: 1.9814 - val_accuracy: 0.2879\n",
      "Epoch 14/100\n",
      "50000/50000 [==============================] - 6s 119us/step - loss: 1.7887 - accuracy: 0.3525 - val_loss: 1.9613 - val_accuracy: 0.2949\n",
      "Epoch 15/100\n",
      "50000/50000 [==============================] - 6s 112us/step - loss: 1.7595 - accuracy: 0.3666 - val_loss: 1.9835 - val_accuracy: 0.2932\n",
      "Epoch 16/100\n",
      "50000/50000 [==============================] - 6s 116us/step - loss: 1.7373 - accuracy: 0.3752 - val_loss: 1.9813 - val_accuracy: 0.2981\n",
      "Epoch 17/100\n",
      "50000/50000 [==============================] - 6s 116us/step - loss: 1.7175 - accuracy: 0.3816 - val_loss: 1.9783 - val_accuracy: 0.2957\n",
      "Epoch 18/100\n",
      "50000/50000 [==============================] - 6s 115us/step - loss: 1.6946 - accuracy: 0.3901 - val_loss: 2.0419 - val_accuracy: 0.2930\n",
      "Epoch 19/100\n",
      "50000/50000 [==============================] - 6s 115us/step - loss: 1.6667 - accuracy: 0.4013 - val_loss: 2.0133 - val_accuracy: 0.2901\n",
      "Epoch 20/100\n",
      "50000/50000 [==============================] - 5s 102us/step - loss: 1.6355 - accuracy: 0.4141 - val_loss: 2.0125 - val_accuracy: 0.3069\n",
      "Epoch 21/100\n",
      "50000/50000 [==============================] - 6s 123us/step - loss: 1.6195 - accuracy: 0.4188 - val_loss: 2.0147 - val_accuracy: 0.2941\n",
      "Epoch 22/100\n",
      "50000/50000 [==============================] - 6s 122us/step - loss: 1.5857 - accuracy: 0.4324 - val_loss: 2.0608 - val_accuracy: 0.2978\n",
      "Epoch 23/100\n",
      "50000/50000 [==============================] - 5s 105us/step - loss: 1.5641 - accuracy: 0.4363 - val_loss: 2.0466 - val_accuracy: 0.3012\n",
      "Epoch 24/100\n",
      "50000/50000 [==============================] - 5s 106us/step - loss: 1.5357 - accuracy: 0.4493 - val_loss: 2.1114 - val_accuracy: 0.2997\n",
      "Epoch 25/100\n",
      "50000/50000 [==============================] - 5s 90us/step - loss: 1.5085 - accuracy: 0.4591 - val_loss: 2.0961 - val_accuracy: 0.2809\n",
      "Epoch 26/100\n",
      "50000/50000 [==============================] - 6s 114us/step - loss: 1.4849 - accuracy: 0.4672 - val_loss: 2.0913 - val_accuracy: 0.2958\n",
      "Epoch 27/100\n",
      "50000/50000 [==============================] - 6s 111us/step - loss: 1.4672 - accuracy: 0.4759 - val_loss: 2.1238 - val_accuracy: 0.3036\n",
      "Epoch 28/100\n",
      "50000/50000 [==============================] - 6s 111us/step - loss: 1.4248 - accuracy: 0.4917 - val_loss: 2.1859 - val_accuracy: 0.2955\n",
      "Epoch 29/100\n",
      "50000/50000 [==============================] - 5s 105us/step - loss: 1.4124 - accuracy: 0.4938 - val_loss: 2.1978 - val_accuracy: 0.3002\n",
      "Epoch 30/100\n",
      "50000/50000 [==============================] - 6s 115us/step - loss: 1.3903 - accuracy: 0.5016 - val_loss: 2.2261 - val_accuracy: 0.2920\n",
      "Epoch 31/100\n",
      "50000/50000 [==============================] - 5s 103us/step - loss: 1.3547 - accuracy: 0.5133 - val_loss: 2.2584 - val_accuracy: 0.2896\n",
      "Epoch 32/100\n",
      "50000/50000 [==============================] - 6s 122us/step - loss: 1.3328 - accuracy: 0.5214 - val_loss: 2.2855 - val_accuracy: 0.2959\n",
      "Epoch 33/100\n",
      "50000/50000 [==============================] - 6s 110us/step - loss: 1.3183 - accuracy: 0.5262 - val_loss: 2.3290 - val_accuracy: 0.2838\n",
      "Epoch 34/100\n",
      "50000/50000 [==============================] - 5s 110us/step - loss: 1.2977 - accuracy: 0.5342 - val_loss: 2.2704 - val_accuracy: 0.2877\n",
      "Epoch 35/100\n",
      "50000/50000 [==============================] - 6s 114us/step - loss: 1.2735 - accuracy: 0.5428 - val_loss: 2.3981 - val_accuracy: 0.2907\n",
      "Epoch 36/100\n",
      "50000/50000 [==============================] - 6s 119us/step - loss: 1.2489 - accuracy: 0.5503 - val_loss: 2.3285 - val_accuracy: 0.2864\n",
      "Epoch 37/100\n",
      "50000/50000 [==============================] - 6s 123us/step - loss: 1.2316 - accuracy: 0.5574 - val_loss: 2.3838 - val_accuracy: 0.2865\n",
      "Epoch 38/100\n",
      "50000/50000 [==============================] - 5s 107us/step - loss: 1.2099 - accuracy: 0.5648 - val_loss: 2.6039 - val_accuracy: 0.2878\n",
      "Epoch 39/100\n",
      "50000/50000 [==============================] - 6s 119us/step - loss: 1.1883 - accuracy: 0.5716 - val_loss: 2.5084 - val_accuracy: 0.2822\n",
      "Epoch 40/100\n",
      "50000/50000 [==============================] - 6s 113us/step - loss: 1.1850 - accuracy: 0.5743 - val_loss: 2.4703 - val_accuracy: 0.2861\n",
      "Epoch 41/100\n",
      "50000/50000 [==============================] - 5s 105us/step - loss: 1.1452 - accuracy: 0.5876 - val_loss: 2.4701 - val_accuracy: 0.2852\n",
      "Epoch 42/100\n",
      "50000/50000 [==============================] - 6s 114us/step - loss: 1.1218 - accuracy: 0.5941 - val_loss: 2.5939 - val_accuracy: 0.2854\n",
      "Epoch 43/100\n",
      "50000/50000 [==============================] - 5s 106us/step - loss: 1.0819 - accuracy: 0.6070 - val_loss: 2.6965 - val_accuracy: 0.2827\n",
      "Epoch 44/100\n",
      "50000/50000 [==============================] - 5s 107us/step - loss: 1.0879 - accuracy: 0.6071 - val_loss: 2.7530 - val_accuracy: 0.2793\n",
      "Epoch 45/100\n",
      "50000/50000 [==============================] - 6s 113us/step - loss: 1.0658 - accuracy: 0.6144 - val_loss: 2.7424 - val_accuracy: 0.2874\n",
      "Epoch 46/100\n",
      "50000/50000 [==============================] - 6s 111us/step - loss: 1.0501 - accuracy: 0.6199 - val_loss: 2.7596 - val_accuracy: 0.2810\n",
      "Epoch 47/100\n",
      "50000/50000 [==============================] - 6s 116us/step - loss: 1.0362 - accuracy: 0.6262 - val_loss: 2.8475 - val_accuracy: 0.2748\n",
      "Epoch 48/100\n",
      "50000/50000 [==============================] - 5s 108us/step - loss: 1.0233 - accuracy: 0.6309 - val_loss: 2.8018 - val_accuracy: 0.2792\n",
      "Epoch 49/100\n",
      "50000/50000 [==============================] - 6s 114us/step - loss: 0.9971 - accuracy: 0.6402 - val_loss: 2.8222 - val_accuracy: 0.2759\n",
      "Epoch 50/100\n",
      "50000/50000 [==============================] - 6s 116us/step - loss: 0.9936 - accuracy: 0.6388 - val_loss: 2.8597 - val_accuracy: 0.2750\n",
      "Epoch 51/100\n",
      "50000/50000 [==============================] - 6s 114us/step - loss: 0.9502 - accuracy: 0.6557 - val_loss: 2.9478 - val_accuracy: 0.2780\n",
      "Epoch 52/100\n",
      "50000/50000 [==============================] - 6s 113us/step - loss: 0.9346 - accuracy: 0.6629 - val_loss: 3.2030 - val_accuracy: 0.2671\n",
      "Epoch 53/100\n",
      "50000/50000 [==============================] - 6s 123us/step - loss: 0.9410 - accuracy: 0.6596 - val_loss: 3.1843 - val_accuracy: 0.2807\n",
      "Epoch 54/100\n",
      "50000/50000 [==============================] - 6s 115us/step - loss: 0.9424 - accuracy: 0.6583 - val_loss: 3.2474 - val_accuracy: 0.2801\n",
      "Epoch 55/100\n"
     ]
    },
    {
     "name": "stdout",
     "output_type": "stream",
     "text": [
      "50000/50000 [==============================] - 6s 111us/step - loss: 0.8801 - accuracy: 0.6807 - val_loss: 3.3078 - val_accuracy: 0.2700\n",
      "Epoch 56/100\n",
      "50000/50000 [==============================] - 5s 105us/step - loss: 0.8956 - accuracy: 0.6755 - val_loss: 3.2273 - val_accuracy: 0.2794\n",
      "Epoch 57/100\n",
      "50000/50000 [==============================] - 6s 127us/step - loss: 0.8811 - accuracy: 0.6810 - val_loss: 3.3235 - val_accuracy: 0.2705\n",
      "Epoch 58/100\n",
      "50000/50000 [==============================] - 5s 109us/step - loss: 0.8607 - accuracy: 0.6876 - val_loss: 3.3505 - val_accuracy: 0.2741\n",
      "Epoch 59/100\n",
      "50000/50000 [==============================] - 6s 120us/step - loss: 0.8481 - accuracy: 0.6930 - val_loss: 3.1999 - val_accuracy: 0.2713\n",
      "Epoch 60/100\n",
      "50000/50000 [==============================] - 6s 111us/step - loss: 0.8493 - accuracy: 0.6952 - val_loss: 3.3724 - val_accuracy: 0.2841\n",
      "Epoch 61/100\n",
      "50000/50000 [==============================] - 6s 115us/step - loss: 0.8179 - accuracy: 0.7053 - val_loss: 3.4446 - val_accuracy: 0.2796\n",
      "Epoch 62/100\n",
      "50000/50000 [==============================] - 6s 119us/step - loss: 0.8233 - accuracy: 0.7026 - val_loss: 3.2542 - val_accuracy: 0.2762\n",
      "Epoch 63/100\n",
      "50000/50000 [==============================] - 6s 115us/step - loss: 0.7990 - accuracy: 0.7098 - val_loss: 3.6187 - val_accuracy: 0.2720\n",
      "Epoch 64/100\n",
      "50000/50000 [==============================] - 6s 120us/step - loss: 0.8047 - accuracy: 0.7068 - val_loss: 3.5998 - val_accuracy: 0.2721\n",
      "Epoch 65/100\n",
      "50000/50000 [==============================] - 6s 111us/step - loss: 0.7671 - accuracy: 0.7221 - val_loss: 3.6380 - val_accuracy: 0.2754\n",
      "Epoch 66/100\n",
      "50000/50000 [==============================] - 6s 114us/step - loss: 0.7606 - accuracy: 0.7244 - val_loss: 3.6623 - val_accuracy: 0.2739\n",
      "Epoch 67/100\n",
      "50000/50000 [==============================] - 6s 121us/step - loss: 0.7856 - accuracy: 0.7152 - val_loss: 3.7197 - val_accuracy: 0.2699\n",
      "Epoch 68/100\n",
      "50000/50000 [==============================] - 6s 118us/step - loss: 0.7216 - accuracy: 0.7407 - val_loss: 3.5710 - val_accuracy: 0.2655\n",
      "Epoch 69/100\n",
      "50000/50000 [==============================] - 6s 117us/step - loss: 0.7339 - accuracy: 0.7359 - val_loss: 3.8071 - val_accuracy: 0.2729\n",
      "Epoch 70/100\n",
      "50000/50000 [==============================] - 6s 120us/step - loss: 0.7272 - accuracy: 0.7367 - val_loss: 3.9599 - val_accuracy: 0.2669\n",
      "Epoch 71/100\n",
      "50000/50000 [==============================] - 6s 114us/step - loss: 0.7155 - accuracy: 0.7426 - val_loss: 4.1724 - val_accuracy: 0.2705\n",
      "Epoch 72/100\n",
      "50000/50000 [==============================] - 6s 114us/step - loss: 0.7176 - accuracy: 0.7410 - val_loss: 4.0162 - val_accuracy: 0.2716\n",
      "Epoch 73/100\n",
      "50000/50000 [==============================] - 6s 121us/step - loss: 0.6758 - accuracy: 0.7566 - val_loss: 4.4232 - val_accuracy: 0.2617\n",
      "Epoch 74/100\n",
      "50000/50000 [==============================] - 6s 117us/step - loss: 0.7210 - accuracy: 0.7404 - val_loss: 3.9522 - val_accuracy: 0.2660\n",
      "Epoch 75/100\n",
      "50000/50000 [==============================] - 6s 113us/step - loss: 0.6802 - accuracy: 0.7536 - val_loss: 4.1991 - val_accuracy: 0.2700\n",
      "Epoch 76/100\n",
      "50000/50000 [==============================] - 6s 115us/step - loss: 0.6633 - accuracy: 0.7618 - val_loss: 4.2497 - val_accuracy: 0.2658\n",
      "Epoch 77/100\n",
      "50000/50000 [==============================] - 6s 123us/step - loss: 0.6792 - accuracy: 0.7558 - val_loss: 4.1212 - val_accuracy: 0.2718\n",
      "Epoch 78/100\n",
      "50000/50000 [==============================] - 6s 122us/step - loss: 0.6766 - accuracy: 0.7582 - val_loss: 3.9212 - val_accuracy: 0.2651\n",
      "Epoch 79/100\n",
      "50000/50000 [==============================] - 6s 115us/step - loss: 0.6592 - accuracy: 0.7626 - val_loss: 4.0913 - val_accuracy: 0.2715\n",
      "Epoch 80/100\n",
      "50000/50000 [==============================] - 6s 121us/step - loss: 0.6152 - accuracy: 0.7781 - val_loss: 4.2524 - val_accuracy: 0.2685\n",
      "Epoch 81/100\n",
      "50000/50000 [==============================] - 6s 122us/step - loss: 0.6208 - accuracy: 0.7775 - val_loss: 4.2326 - val_accuracy: 0.2674\n",
      "Epoch 82/100\n",
      "50000/50000 [==============================] - 6s 122us/step - loss: 0.6168 - accuracy: 0.7786 - val_loss: 4.5182 - val_accuracy: 0.2611\n",
      "Epoch 83/100\n",
      "50000/50000 [==============================] - 6s 115us/step - loss: 0.6269 - accuracy: 0.7760 - val_loss: 4.4545 - val_accuracy: 0.2661\n",
      "Epoch 84/100\n",
      "50000/50000 [==============================] - 6s 126us/step - loss: 0.5933 - accuracy: 0.7861 - val_loss: 4.5747 - val_accuracy: 0.2679\n",
      "Epoch 85/100\n",
      "50000/50000 [==============================] - 6s 121us/step - loss: 0.5782 - accuracy: 0.7939 - val_loss: 4.5659 - val_accuracy: 0.2692\n",
      "Epoch 86/100\n",
      "50000/50000 [==============================] - 6s 120us/step - loss: 0.5716 - accuracy: 0.7949 - val_loss: 4.7210 - val_accuracy: 0.2571\n",
      "Epoch 87/100\n",
      "50000/50000 [==============================] - 6s 119us/step - loss: 0.5986 - accuracy: 0.7863 - val_loss: 4.7226 - val_accuracy: 0.2611\n",
      "Epoch 88/100\n",
      "50000/50000 [==============================] - 6s 125us/step - loss: 0.6018 - accuracy: 0.7842 - val_loss: 4.5737 - val_accuracy: 0.2584\n",
      "Epoch 89/100\n",
      "50000/50000 [==============================] - 6s 120us/step - loss: 0.5785 - accuracy: 0.7922 - val_loss: 4.9050 - val_accuracy: 0.2592\n",
      "Epoch 90/100\n",
      "50000/50000 [==============================] - 6s 120us/step - loss: 0.5662 - accuracy: 0.7998 - val_loss: 4.7783 - val_accuracy: 0.2659\n",
      "Epoch 91/100\n",
      "50000/50000 [==============================] - 6s 124us/step - loss: 0.5883 - accuracy: 0.7908 - val_loss: 4.7729 - val_accuracy: 0.2580\n",
      "Epoch 92/100\n",
      "50000/50000 [==============================] - 6s 117us/step - loss: 0.5160 - accuracy: 0.8162 - val_loss: 5.1716 - val_accuracy: 0.2636\n",
      "Epoch 93/100\n",
      "50000/50000 [==============================] - 6s 111us/step - loss: 0.5470 - accuracy: 0.8045 - val_loss: 4.4993 - val_accuracy: 0.2639\n",
      "Epoch 94/100\n",
      "50000/50000 [==============================] - 5s 109us/step - loss: 0.5254 - accuracy: 0.8131 - val_loss: 4.8578 - val_accuracy: 0.2633\n",
      "Epoch 95/100\n",
      "50000/50000 [==============================] - 5s 107us/step - loss: 0.5491 - accuracy: 0.8050 - val_loss: 4.7994 - val_accuracy: 0.2611\n",
      "Epoch 96/100\n",
      "50000/50000 [==============================] - 6s 112us/step - loss: 0.5484 - accuracy: 0.8057 - val_loss: 5.0465 - val_accuracy: 0.2554\n",
      "Epoch 97/100\n",
      "50000/50000 [==============================] - 4s 83us/step - loss: 0.5212 - accuracy: 0.8142 - val_loss: 4.9117 - val_accuracy: 0.2650\n",
      "Epoch 98/100\n",
      "50000/50000 [==============================] - 3s 64us/step - loss: 0.5155 - accuracy: 0.8172 - val_loss: 4.8235 - val_accuracy: 0.2602\n",
      "Epoch 99/100\n",
      "50000/50000 [==============================] - 5s 90us/step - loss: 0.5162 - accuracy: 0.8167 - val_loss: 5.3867 - val_accuracy: 0.2659\n",
      "Epoch 100/100\n",
      "50000/50000 [==============================] - 6s 119us/step - loss: 0.5341 - accuracy: 0.8114 - val_loss: 4.7965 - val_accuracy: 0.2590\n"
     ]
    },
    {
     "data": {
      "text/plain": [
       "<keras.callbacks.callbacks.History at 0x17056eff208>"
      ]
     },
     "execution_count": 8,
     "metadata": {},
     "output_type": "execute_result"
    }
   ],
   "source": [
    "model.fit(x_train, y_train, \n",
    "          epochs=EPOCHS, \n",
    "          batch_size=BATCH_SIZE, \n",
    "          validation_data=(x_test, y_test), \n",
    "          shuffle=True)"
   ]
  },
  {
   "cell_type": "code",
   "execution_count": 10,
   "metadata": {},
   "outputs": [
    {
     "data": {
      "image/png": "[encoded data removed]",
      "text/plain": [
       "<Figure size 432x288 with 1 Axes>"
      ]
     },
     "metadata": {
      "needs_background": "light"
     },
     "output_type": "display_data"
    },
    {
     "data": {
      "image/png": "[encoded data removed]",
      "text/plain": [
       "<Figure size 432x288 with 1 Axes>"
      ]
     },
     "metadata": {
      "needs_background": "light"
     },
     "output_type": "display_data"
    }
   ],
   "source": [
    "import matplotlib.pyplot as plt\n",
    "\n",
    "\n",
    "train_loss = model.history.history[\"loss\"]\n",
    "valid_loss = model.history.history[\"val_loss\"]\n",
    "\n",
    "train_acc = model.history.history[\"accuracy\"]\n",
    "valid_acc = model.history.history[\"val_accuracy\"]\n",
    "\n",
    "plt.plot(range(len(train_loss)), train_loss, label=\"train loss\")\n",
    "plt.plot(range(len(valid_loss)), valid_loss, label=\"valid loss\")\n",
    "plt.legend()\n",
    "plt.title(\"Loss\")\n",
    "plt.show()\n",
    "\n",
    "plt.plot(range(len(train_acc)), train_acc, label=\"train accuracy\")\n",
    "plt.plot(range(len(valid_acc)), valid_acc, label=\"valid accuracy\")\n",
    "plt.legend()\n",
    "plt.title(\"Accuracy\")\n",
    "plt.show()"
   ]
  },
  {
   "cell_type": "code",
   "execution_count": null,
   "metadata": {},
   "outputs": [],
   "source": []
  }
 ],
 "metadata": {
  "kernelspec": {
   "display_name": "Python 3",
   "language": "python",
   "name": "python3"
  },
  "language_info": {
   "codemirror_mode": {
    "name": "ipython",
    "version": 3
   },
   "file_extension": ".py",
   "mimetype": "text/x-python",
   "name": "python",
   "nbconvert_exporter": "python",
   "pygments_lexer": "ipython3",
   "version": "3.7.3"
  }
 },
 "nbformat": 4,
 "nbformat_minor": 2
}
